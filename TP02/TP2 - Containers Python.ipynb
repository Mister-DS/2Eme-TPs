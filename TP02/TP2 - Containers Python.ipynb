{
 "cells": [
  {
   "cell_type": "markdown",
   "metadata": {},
   "source": [
    "# TP2 : Les containers Python\n",
    "\n",
    "# 1. Les listes\n",
    "\n",
    "Les listes sont des structures de données permettant de stocker des séquences d'objets, auxquels il est possible d'accéder par indexation. Ils sont similaires aux tableaux/arrays en JS.  Les listes sont **muables** : elles peuvent être modifiées durant leur cycle de vie.  \n",
    "\n",
    "Pour résoudre ces exercices, n'hésitez pas à consulter la documentation officielle de Python, et notamment les méthodes disponibles sur les objets list : https://docs.python.org/3/tutorial/datastructures.html"
   ]
  },
  {
   "cell_type": "markdown",
   "metadata": {},
   "source": [
    "1.1 Créez une liste liste1 contenant les nombres de 0 à 100"
   ]
  },
  {
   "cell_type": "code",
   "execution_count": 2,
   "metadata": {},
   "outputs": [
    {
     "name": "stdout",
     "output_type": "stream",
     "text": [
      "[1, 2, 3, 4, 5, 6, 7, 8, 9, 10, 11, 12, 13, 14, 15, 16, 17, 18, 19, 20, 21, 22, 23, 24, 25, 26, 27, 28, 29, 30, 31, 32, 33, 34, 35, 36, 37, 38, 39, 40, 41, 42, 43, 44, 45, 46, 47, 48, 49, 50, 51, 52, 53, 54, 55, 56, 57, 58, 59, 60, 61, 62, 63, 64, 65, 66, 67, 68, 69, 70, 71, 72, 73, 74, 75, 76, 77, 78, 79, 80, 81, 82, 83, 84, 85, 86, 87, 88, 89, 90, 91, 92, 93, 94, 95, 96, 97, 98, 99, 100]\n"
     ]
    }
   ],
   "source": [
    "liste1 = []\n",
    "o = 0\n",
    "while o < 100: \n",
    "    o += 1\n",
    "    liste1.append(o)\n",
    "print(liste1)"
   ]
  },
  {
   "cell_type": "markdown",
   "metadata": {},
   "source": [
    "1.2 Créez une liste liste2 contenant les nombres de 50 à 200, par incrément de 5 (i.e. [50, 55, 60, ...])"
   ]
  },
  {
   "cell_type": "code",
   "execution_count": 3,
   "metadata": {},
   "outputs": [
    {
     "name": "stdout",
     "output_type": "stream",
     "text": [
      "[50, 55, 60, 65, 70, 75, 80, 85, 90, 95, 100, 105, 110, 115, 120, 125, 130, 135, 140, 145, 150, 155, 160, 165, 170, 175, 180, 185, 190, 195, 200]\n"
     ]
    }
   ],
   "source": [
    "liste2 = []\n",
    "start = 45\n",
    "increment = 5\n",
    "while start < 200:\n",
    "    start += increment\n",
    "    liste2.append(start)\n",
    "print(liste2)"
   ]
  },
  {
   "cell_type": "markdown",
   "metadata": {},
   "source": [
    "1.3 Créez une nouvelle liste contenant les éléments d'indices 15 à 20 de la liste liste2.  Utilisez le slicing.  "
   ]
  },
  {
   "cell_type": "code",
   "execution_count": 5,
   "metadata": {},
   "outputs": [
    {
     "name": "stdout",
     "output_type": "stream",
     "text": [
      "[125, 130, 135, 140, 145]\n"
     ]
    }
   ],
   "source": [
    "listeT = liste2[15:20]\n",
    "print(listeT)"
   ]
  },
  {
   "cell_type": "markdown",
   "metadata": {},
   "source": [
    "1.4  Soit la liste liste3 définie ci-dessous.  Créez une nouvelle liste sur base de liste3, mais sans les éléments sel et miel, en exploitant le \"slicing\" (i.e. remplacez la sous-liste des éléments à supprimer par une liste vide). "
   ]
  },
  {
   "cell_type": "code",
   "execution_count": 11,
   "metadata": {},
   "outputs": [
    {
     "name": "stdout",
     "output_type": "stream",
     "text": [
      "['jambon', 'confiture', 'beurre']\n"
     ]
    }
   ],
   "source": [
    "liste3 = ['jambon', 'sel', 'miel', 'confiture', 'beurre']\n",
    "liste3_new = liste3[:liste3.index(\"sel\")] + liste3[liste3.index(\"miel\") + 1:]\n",
    "print(liste3_new)"
   ]
  },
  {
   "cell_type": "markdown",
   "metadata": {},
   "source": [
    "1.5 **Tri de listes** : Comment pouvez-vous trier une liste d'entiers par ordre croissant?  Décroissant?  Et une liste de strings? Testez les différents cas de figure.  Est-ce que cela fonctionne avec une liste contenant à la fois des entiers et des strings?  Testez en utilisant d'abord la méthode sort() puis la fonction sorted().  Quelle est la différence entre les deux?  Vous trouverez des informations à ce sujet dans la documentation officielle : https://docs.python.org/fr/3/howto/sorting.html"
   ]
  },
  {
   "cell_type": "code",
   "execution_count": 15,
   "metadata": {},
   "outputs": [
    {
     "name": "stdout",
     "output_type": "stream",
     "text": [
      "['beurre', 'confiture', 'jambon', 'miel', 'sel']\n"
     ]
    }
   ],
   "source": [
    "liste3.sort()\n",
    "print(liste3)"
   ]
  },
  {
   "cell_type": "markdown",
   "metadata": {},
   "source": [
    "1.6  Créez une fonction qui prend une liste d'entiers en paramètre et renvoie la somme des éléments de cette liste.  Vous ne pouvez pas utiliser la fonction sum(). Que se passe-t'il si vous donnez une liste de strings à votre fonction?  Expliquez le résultat obtenu. "
   ]
  },
  {
   "cell_type": "code",
   "execution_count": 21,
   "metadata": {},
   "outputs": [],
   "source": [
    "def addition(sListe):\n",
    "    somme = 0\n",
    "    for i in sListe:\n",
    "        somme += i\n",
    "    return somme\n",
    "\n",
    "sListe = [0, 5, 1, 4, 8, 6, 1, 7]"
   ]
  },
  {
   "cell_type": "markdown",
   "metadata": {},
   "source": [
    "1.7  Comment pouvez-vous créer une chaîne de caractères sur base d'une liste, en vous assurant que chaque élément soit séparé du suivant par un séparateur (qui peut être par ex. un espace, un retour à la ligne, un tiret, ...)?  \n",
    "\n",
    "Conseil : Consultez la documentation Python, et notamment les méthodes applicables sur les strings (dont split())!"
   ]
  },
  {
   "cell_type": "code",
   "execution_count": 27,
   "metadata": {},
   "outputs": [
    {
     "name": "stdout",
     "output_type": "stream",
     "text": [
      "['Je', 'suis', 'Simon', 'et', \"j'étudie\", 'le', 'python']\n"
     ]
    }
   ],
   "source": [
    "listeMot = \"Je suis Simon et j'étudie le python\"\n",
    "print(listeMot.split())"
   ]
  },
  {
   "cell_type": "markdown",
   "metadata": {},
   "source": [
    "# 2. Les tuples\n",
    "\n",
    "Les tuples sont une seconde structure de données permettant de stocker des séquences d'objets.  Contrairement aux listes, les tuples sont **immuables** : il n'est pas possible de les modifier après leur création.  "
   ]
  },
  {
   "cell_type": "markdown",
   "metadata": {},
   "source": [
    "2.1 Créez une fonction qui prend un string en paramètre et renvoie le tuple contenant les lettres composant ce string.  "
   ]
  },
  {
   "cell_type": "code",
   "execution_count": 28,
   "metadata": {},
   "outputs": [],
   "source": [
    "def separation(mot):\n",
    "    return tuple(mot)"
   ]
  },
  {
   "cell_type": "markdown",
   "metadata": {},
   "source": [
    "2.2. Soit le tuple mon_tuple = (\"Orange\", [10, 20, 30], (5, 15, 25)).  Comment récupérez-vous l'élément de valeur 20 dans ce tuple?  "
   ]
  },
  {
   "cell_type": "code",
   "execution_count": 31,
   "metadata": {},
   "outputs": [
    {
     "name": "stdout",
     "output_type": "stream",
     "text": [
      "20\n"
     ]
    }
   ],
   "source": [
    "mon_tuple = (\"Orange\", [10, 20, 30], (5, 15, 25))\n",
    "#               [0]         [1]         [2]\n",
    "print(mon_tuple[1][1])\n"
   ]
  },
  {
   "cell_type": "markdown",
   "metadata": {},
   "source": [
    "2.3 Soit le tuple mon_tuple = (1,2,3,4).  Comment pouvez-vous, en une instruction, assignez les 4 valeurs du tuple aux variables a,b,c et d? (conseil : Considérez le \"unpacking\" de tuple)"
   ]
  },
  {
   "cell_type": "code",
   "execution_count": 33,
   "metadata": {},
   "outputs": [
    {
     "name": "stdout",
     "output_type": "stream",
     "text": [
      "1\n"
     ]
    }
   ],
   "source": [
    "mon_tuple = (1,2,3,4)\n",
    "a, b, c, d = mon_tuple\n",
    "print(a)\n",
    "print(b)\n",
    "print(c)\n",
    "print(d)"
   ]
  },
  {
   "cell_type": "markdown",
   "metadata": {},
   "source": [
    "2.4 Ecrivez une fonction qui prend une chaine de caractères en paramètre et renvoie deux choses : Le nombre de lettres (= caractères alphanumériques) composant la chaînes de caractères et le nombre de mots de cette même chaine de caractères.  Un mot est considéré comme tel s'il est délimité par le début du string, un espace et/ou la fin du string.  "
   ]
  },
  {
   "cell_type": "code",
   "execution_count": 34,
   "metadata": {},
   "outputs": [],
   "source": [
    "def count_chars_and_words(s):\n",
    "    alphanumeric_chars = sum(c.isalnum() for c in s)\n",
    "    words = len(s.split())\n",
    "    return alphanumeric_chars, words"
   ]
  },
  {
   "cell_type": "markdown",
   "metadata": {},
   "source": [
    "2.5 Soit le tuple mon_tuple = (('a', 23),('b', 37),('c', 11), ('d',29)).  Comment pouvez-vous trier ce tuple par ordre décroissant du second item de chaque élément?  Votre code doit produire le tuple suivant : \n",
    "resultat=(('b',37),('d',29),('a',23),('c',11)). \n",
    "\n",
    "Conseil : Vous trouverez la méthode pour trier des séquences ici : https://docs.python.org/fr/3/howto/sorting.html . Considérez la fonction \"itemgetter()\""
   ]
  },
  {
   "cell_type": "code",
   "execution_count": 40,
   "metadata": {},
   "outputs": [
    {
     "ename": "NameError",
     "evalue": "name 'itemgetter' is not defined",
     "output_type": "error",
     "traceback": [
      "\u001b[1;31m---------------------------------------------------------------------------\u001b[0m",
      "\u001b[1;31mNameError\u001b[0m                                 Traceback (most recent call last)",
      "\u001b[1;32m<ipython-input-40-4ae51559c936>\u001b[0m in \u001b[0;36m<module>\u001b[1;34m\u001b[0m\n\u001b[0;32m      1\u001b[0m \u001b[0mmon_tuple\u001b[0m \u001b[1;33m=\u001b[0m \u001b[1;33m(\u001b[0m\u001b[1;33m(\u001b[0m\u001b[1;34m'a'\u001b[0m\u001b[1;33m,\u001b[0m \u001b[1;36m23\u001b[0m\u001b[1;33m)\u001b[0m\u001b[1;33m,\u001b[0m\u001b[1;33m(\u001b[0m\u001b[1;34m'b'\u001b[0m\u001b[1;33m,\u001b[0m \u001b[1;36m37\u001b[0m\u001b[1;33m)\u001b[0m\u001b[1;33m,\u001b[0m\u001b[1;33m(\u001b[0m\u001b[1;34m'c'\u001b[0m\u001b[1;33m,\u001b[0m \u001b[1;36m11\u001b[0m\u001b[1;33m)\u001b[0m\u001b[1;33m,\u001b[0m \u001b[1;33m(\u001b[0m\u001b[1;34m'd'\u001b[0m\u001b[1;33m,\u001b[0m\u001b[1;36m29\u001b[0m\u001b[1;33m)\u001b[0m\u001b[1;33m)\u001b[0m\u001b[1;33m\u001b[0m\u001b[1;33m\u001b[0m\u001b[0m\n\u001b[0;32m      2\u001b[0m \u001b[1;33m\u001b[0m\u001b[0m\n\u001b[1;32m----> 3\u001b[1;33m \u001b[0mresultat\u001b[0m \u001b[1;33m=\u001b[0m \u001b[0mtuple\u001b[0m\u001b[1;33m(\u001b[0m\u001b[0msorted\u001b[0m\u001b[1;33m(\u001b[0m\u001b[0mmon_tuple\u001b[0m\u001b[1;33m,\u001b[0m \u001b[0mkey\u001b[0m\u001b[1;33m=\u001b[0m\u001b[0mitemgetter\u001b[0m\u001b[1;33m(\u001b[0m\u001b[1;36m1\u001b[0m\u001b[1;33m)\u001b[0m\u001b[1;33m,\u001b[0m \u001b[0mreverse\u001b[0m\u001b[1;33m=\u001b[0m\u001b[1;32mTrue\u001b[0m\u001b[1;33m)\u001b[0m\u001b[1;33m)\u001b[0m\u001b[1;33m\u001b[0m\u001b[1;33m\u001b[0m\u001b[0m\n\u001b[0m\u001b[0;32m      4\u001b[0m \u001b[0mprint\u001b[0m\u001b[1;33m(\u001b[0m\u001b[0mresultat\u001b[0m\u001b[1;33m)\u001b[0m  \u001b[1;31m# Output: (('b', 37), ('d', 29), ('a', 23), ('c', 11))\u001b[0m\u001b[1;33m\u001b[0m\u001b[1;33m\u001b[0m\u001b[0m\n",
      "\u001b[1;31mNameError\u001b[0m: name 'itemgetter' is not defined"
     ]
    }
   ],
   "source": [
    "mon_tuple = (('a', 23),('b', 37),('c', 11), ('d',29))\n",
    "\n",
    "resultat = tuple(sorted(mon_tuple, key=itemgetter(1), reverse=True))\n",
    "print(resultat)  # Output: (('b', 37), ('d', 29), ('a', 23), ('c', 11))"
   ]
  },
  {
   "cell_type": "markdown",
   "metadata": {},
   "source": [
    "2.6 Soit le code Python ci-dessous.  Comment expliquez-vous que ce code soit correct sachant que les tuples sont immuables?  "
   ]
  },
  {
   "cell_type": "code",
   "execution_count": 35,
   "metadata": {},
   "outputs": [
    {
     "name": "stdout",
     "output_type": "stream",
     "text": [
      "(11, [222, 33], 44, 55)\n"
     ]
    }
   ],
   "source": [
    "tuple1 = (11, [22, 33], 44, 55)\n",
    "tuple1[1][0] = 222\n",
    "print(tuple1)"
   ]
  },
  {
   "cell_type": "markdown",
   "metadata": {},
   "source": [
    "# 3. Les dictionnaires"
   ]
  },
  {
   "cell_type": "markdown",
   "metadata": {},
   "source": [
    "3.1 Soit le dictionnaire mon_dict défini ci-dessous.  Comment afficher le résultat qu'Arthur a obtenu pour le cours de Python? "
   ]
  },
  {
   "cell_type": "code",
   "execution_count": 46,
   "metadata": {},
   "outputs": [
    {
     "name": "stdout",
     "output_type": "stream",
     "text": [
      "80\n"
     ]
    }
   ],
   "source": [
    "mon_dict = { \n",
    "   \"classe\":{ \n",
    "      \"etudiants\":\n",
    "      [\n",
    "         { \n",
    "         \"nom\":\"Arthur\",\n",
    "         \"resultats\":{ \n",
    "            \"admin\":70,\n",
    "            \"python\":80\n",
    "            }  \n",
    "         },\n",
    "         { \n",
    "         \"nom\":\"Léon\",\n",
    "         \"resultats\":{ \n",
    "            \"admin\":60,\n",
    "            \"python\":90\n",
    "            }  \n",
    "         }\n",
    "      ]  \n",
    "   }\n",
    "} \n",
    "\n",
    "for etudiant in mon_dict[\"classe\"][\"etudiants\"]:\n",
    "    if etudiant[\"nom\"] == \"Arthur\":\n",
    "        arthur_python_result = etudiant[\"resultats\"][\"python\"]\n",
    "        break\n",
    "\n",
    "print(arthur_python_result)  # Output: 80"
   ]
  },
  {
   "cell_type": "markdown",
   "metadata": {},
   "source": [
    "3.2 Ecrire une fonction *contains_value(dict, val)* qui renvoie True si le dictionnaire dict contient la valeur val.  "
   ]
  },
  {
   "cell_type": "code",
   "execution_count": 49,
   "metadata": {},
   "outputs": [],
   "source": [
    "def contains_value(dict, val):\n",
    "    if val in dict:\n",
    "        print(\"True\")"
   ]
  },
  {
   "cell_type": "markdown",
   "metadata": {},
   "source": [
    "3.3 Créez un dictionnaire  sur base des deux listes ci-dessous. "
   ]
  },
  {
   "cell_type": "code",
   "execution_count": 54,
   "metadata": {},
   "outputs": [
    {
     "name": "stdout",
     "output_type": "stream",
     "text": [
      "{'Dix': 10, 'Vingt': 20, 'Trente': 30}\n"
     ]
    }
   ],
   "source": [
    "cles = ['Dix', 'Vingt', 'Trente']\n",
    "valeurs = [10, 20, 30]\n",
    "\n",
    "#TODO : Créer un dictionnaire cles:valeurs\n",
    "\n",
    "newDict = dict(zip(cles, valeurs))\n",
    "print(newDict)"
   ]
  },
  {
   "cell_type": "markdown",
   "metadata": {},
   "source": [
    "3.4 Soit le dictionnaire ci-dessous qui contient les résultats des étudiants à un test.  Triez le dictionnaire ci-dessous par valeur, du meilleur résultat au moins bon.  "
   ]
  },
  {
   "cell_type": "code",
   "execution_count": 57,
   "metadata": {},
   "outputs": [
    {
     "name": "stdout",
     "output_type": "stream",
     "text": [
      "[('Capucine', 87), ('Gaston', 83), ('Arthur', 80), ('Emilie', 75), ('Xavier', 50), ('Gérard', 38), ('Clémentine', 20)]\n"
     ]
    }
   ],
   "source": [
    "resultats = {\n",
    "    'Arthur' : 80,\n",
    "    'Xavier' : 50,\n",
    "    'Gérard' : 38, \n",
    "    'Clémentine' : 20,\n",
    "    'Emilie' : 75,\n",
    "    'Gaston' : 83,\n",
    "    'Capucine' : 87\n",
    "}\n",
    "\n",
    "new = sorted(resultats.items(), key=lambda x: x[1], reverse=True)\n",
    "print(new)"
   ]
  },
  {
   "cell_type": "markdown",
   "metadata": {},
   "source": [
    "## 4. Les ensembles\n",
    "\n",
    "Les ensembles sont des structures de données non séquentielles, contenant des éléments uniques.  Il n'est pas possible d'accéder aux éléments par indexation.  \n",
    "\n",
    "Les éléments de type *set* sont muables. L'équivalent immuable est le *frozenset*. \n",
    "\n",
    "Vous trouverez la documentation sur les ensembles et les opérations qui leur sont applicables ici : https://docs.python.org/3.8/library/stdtypes.html#set-types-set-frozenset\n"
   ]
  },
  {
   "cell_type": "markdown",
   "metadata": {},
   "source": [
    "4.1 Soit un ensemble et une liste.  Ajoutez les éléments de la liste à l'ensemble. "
   ]
  },
  {
   "cell_type": "code",
   "execution_count": 63,
   "metadata": {},
   "outputs": [
    {
     "name": "stdout",
     "output_type": "stream",
     "text": [
      "{'Orange', 'Bleu', 'Vert', 'Noir', 'Jaune', 'Rouge'}\n"
     ]
    }
   ],
   "source": [
    "ensemble = {\"Jaune\", \"Orange\", \"Noir\"}\n",
    "liste = [\"Bleu\", \"Vert\", \"Rouge\"]\n",
    "## TODO : Ajoutez liste à ensemble\n",
    "ensemble.update(frozenset(liste))\n",
    "print(ensemble)\n"
   ]
  },
  {
   "cell_type": "markdown",
   "metadata": {},
   "source": [
    "4.2 Soit deux ensembles donnés.  Comment vérifiez-vous que si le premier est un sous-ensemble du second?  Et inversément (superset) ?  "
   ]
  },
  {
   "cell_type": "code",
   "execution_count": null,
   "metadata": {},
   "outputs": [],
   "source": []
  },
  {
   "cell_type": "markdown",
   "metadata": {},
   "source": [
    "4.3  Ecrivez une fonction qui prend une liste en paramètres, et qui vérifie si la liste contient des doublons. La fonction renvoie un booléen. "
   ]
  },
  {
   "cell_type": "code",
   "execution_count": 64,
   "metadata": {},
   "outputs": [],
   "source": [
    "def contient_doublons(liste):\n",
    "    # Conversion de la liste en ensemble pour éliminer les doublons\n",
    "    return len(liste) != len(set(liste))\n"
   ]
  },
  {
   "cell_type": "markdown",
   "metadata": {},
   "source": [
    "# 5.  Fonctions - Notions avancées\n",
    "\n",
    "A présent que vous maitrisez les structures de données Python, nous allons revenir sur la définition des fonctions.  Python nous offre des mécanismes extrêmement pratiques pour définir les paramètres des fonctions, de manière souple et efficace.  \n",
    "\n",
    "## Paramètres par défaut\n",
    "\n",
    "Un premier mécanisme intéressant est la possibilité de définir des valeurs par défaut dans les fonctions.  Par exemple, imaginons une fonction qui imprime les éléments d'une liste. Par défaut, elle imprime un élément par ligne, mais on pourrait par ex. ajouter un paramètre permettant de spécifier le nombre d'éléments par ligne :   "
   ]
  },
  {
   "cell_type": "code",
   "execution_count": null,
   "metadata": {},
   "outputs": [],
   "source": [
    "def print_list(ma_liste, nb_elem_par_ligne = 1) : \n",
    "        ligne = \"\"\n",
    "        for i in range(len(ma_liste)) : \n",
    "            ligne= ligne + \" \" + ma_liste[i]\n",
    "            if ((i+1) % nb_elem_par_ligne) == 0 : \n",
    "                print(ligne)\n",
    "                ligne = \"\"\n",
    "\n"
   ]
  },
  {
   "cell_type": "markdown",
   "metadata": {},
   "source": [
    "Cette fonction peut dès lors être appelée avec des nombres variables de paramètres : "
   ]
  },
  {
   "cell_type": "code",
   "execution_count": null,
   "metadata": {},
   "outputs": [],
   "source": [
    "ma_liste = [\"elem_1\", \"elem_2\", \"elem_3\", \"elem_4\"]\n",
    "\n",
    "print(\"Un élément par ligne\")\n",
    "print_list(ma_liste)\n",
    "\n",
    "print(\"Deux éléments par ligne\")\n",
    "print_list(ma_liste,2)\n"
   ]
  },
  {
   "cell_type": "markdown",
   "metadata": {},
   "source": [
    "Le premier paramètre est obligatoire et le second est facultatif.  \n",
    "\n",
    "## Arguments nommés\n",
    "\n",
    "Si une fonction possède plusieurs paramètres facultatifs, il faut fournir un moyen à l'interpréteur de les différencier. \n",
    "\n",
    "Reprenons notre fonction print_list et ajoutons-y un paramètre permettant de spécifier un éventuel \"bullet\" (puce) devant chaque ligne de la liste : "
   ]
  },
  {
   "cell_type": "code",
   "execution_count": null,
   "metadata": {},
   "outputs": [],
   "source": [
    "def print_list(ma_liste, nb_elem_par_ligne = 1, bullet = \"\") : \n",
    "        ligne = \"\"\n",
    "        for i in range(len(ma_liste)) : \n",
    "            ligne= ligne + \" \" + ma_liste[i]\n",
    "            if ((i+1) % nb_elem_par_ligne) == 0 : \n",
    "                print(bullet + \" \" + ligne)\n",
    "                ligne = \"\"\n",
    "        print(bullet + \" \" + ligne)"
   ]
  },
  {
   "cell_type": "markdown",
   "metadata": {},
   "source": [
    "Comment faire pour utiliser le paramètre par défaut de nb_elem_par_ligne mais en spécifiant une valeur pour le \"bullet\"? \n",
    "\n",
    "    >> print_list(ma_liste, \"-\") \n",
    "\n",
    "va avoir pour effet de donner la valeur \"-\" au paramètre nb_elem_par_ligne.  Ce n'est pas ce que l'on cherche! \n",
    "\n",
    "On va donc nommer l'argument lors de l'appel de la fonction pour lever cette ambiguité : \n",
    "\n",
    "    >> print_list(ma_liste, bullet=\"-\")\n",
    "\n",
    "\n",
    "Essayez par vous-même : "
   ]
  },
  {
   "cell_type": "code",
   "execution_count": null,
   "metadata": {},
   "outputs": [],
   "source": [
    "print_list(ma_liste, \"-\")"
   ]
  },
  {
   "cell_type": "code",
   "execution_count": null,
   "metadata": {},
   "outputs": [],
   "source": [
    "print_list(ma_liste, bullet=\"-\")"
   ]
  },
  {
   "cell_type": "markdown",
   "metadata": {},
   "source": [
    "## Liste d'arguments de taille arbitraire\n",
    "\n",
    "Parfois, on souhaite carrément permettre un nombre arbitraire d'arguments.  Imaginons par exemple qu'on souhaite concaténer une série de mots en les passant en paramètres à une fonction *concat* :\n",
    "\n",
    "    >> concat(\"2TL1\",\"2TL2\")\n",
    "\n",
    "    >> contat(\"2TL1\",\"2TL2\",\"2TM1\")\n",
    "\n",
    "Comment définir la fonction *contact* pour supporter un nombre variable d'arguments?  On utise pour cela la notation étoile (splat en anglais).  Cette notation permet de faire du *packing*, c'est-à-dire de regrouper les arguments sous forme d'un tuple, identifié par le paramètre *args. "
   ]
  },
  {
   "cell_type": "code",
   "execution_count": null,
   "metadata": {},
   "outputs": [],
   "source": [
    "def concat(*args) : \n",
    "        return \" \".join(args)\n",
    "    \n",
    "print(concat(\"2TL1\", \"2TL2\", \"2TM1\"))\n"
   ]
  },
  {
   "cell_type": "markdown",
   "metadata": {},
   "source": [
    "A l'inverse, si on dispose d'un tuple ou d'une liste et que la fonction requiert des arguments séparés, on peut faire du *unpacking*, qui consiste à sortir les éléments de la séquence pour les attribuer à des variables séparés.  Par exemple, la fonction *range()* prend des arguments séparés.  On souhaite l'appeler pour générer les éléments de 2 à 10, par pas de 2.  Si les arguments sont disponibles sous forme de tuple, il faut faire du unpacking avec la même notation étoile/splat que plus haut. "
   ]
  },
  {
   "cell_type": "code",
   "execution_count": null,
   "metadata": {},
   "outputs": [],
   "source": [
    "mes_arguments = (2,10,2) \n",
    "for i in range(*mes_arguments) : \n",
    "        print(i)"
   ]
  },
  {
   "cell_type": "markdown",
   "metadata": {},
   "source": [
    "## Utiliser un dictionnaire pour les arguments nommés\n",
    "\n",
    "On peut faire la même chose avec les arguments nommés, cette fois en utilisant la double étoile comme opérateur.  \n",
    "\n",
    "Reprenons notre fonction *print_list* définie plus haut : \n",
    "\n",
    "    def print_list(ma_liste, nb_elem_par_ligne = 1, bullet = \"\")\n",
    "    \n",
    "Je peux l'appeler en utilisant les éléments d'un dictionnaire pour les paramètres :"
   ]
  },
  {
   "cell_type": "code",
   "execution_count": null,
   "metadata": {},
   "outputs": [],
   "source": [
    "ma_liste = [\"elem_1\", \"elem_2\", \"elem_3\", \"elem_4\", \"elem5\"] \n",
    "    \n",
    "mon_dict = {'nb_elem_par_ligne':2, 'bullet':'*'}\n",
    "print_list(ma_liste, **mon_dict)"
   ]
  },
  {
   "cell_type": "markdown",
   "metadata": {},
   "source": [
    "## Synthèse : Fonction 2.0\n",
    "\n",
    "Nous pouvons mettre tous ces mécanismes ensemble pour définir une fonction pouvant fonctionner de multiples façons : \n",
    "\n",
    "    def ma_fonction(parametre_normal,\n",
    "                    parametre_avec_default=\"valeur par défaut\",\n",
    "                    *args,\n",
    "                    **kwargs)\n",
    "                    \n",
    "On retrouve dans cette définition de fonction : \n",
    "\n",
    "- Un paramètre normal (dit positionnel)\n",
    "- Un paramètre avec valeur par défaut\n",
    "- Un nombre variable de paramètres arbitraires non-nommés\n",
    "- Un nombre variable de paramètres arbitraires nommés.  \n",
    "\n",
    "L'ordre de ces différents paramètres est important et doit être respecté!"
   ]
  },
  {
   "cell_type": "markdown",
   "metadata": {},
   "source": [
    "5.1 Ecrivez une fonction *somme* qui prend un nombre variable de paramètres entiers et en imprime la somme.  "
   ]
  },
  {
   "cell_type": "code",
   "execution_count": null,
   "metadata": {},
   "outputs": [],
   "source": []
  },
  {
   "cell_type": "markdown",
   "metadata": {},
   "source": [
    "5.2 Ecrivez une fonction num_args qui prend un nombre variable de paramètres et renvoie le nombre d'arguments entrés. "
   ]
  },
  {
   "cell_type": "code",
   "execution_count": null,
   "metadata": {},
   "outputs": [],
   "source": []
  }
 ],
 "metadata": {
  "kernelspec": {
   "display_name": "Python 3.9.8 64-bit",
   "language": "python",
   "name": "python3"
  },
  "language_info": {
   "codemirror_mode": {
    "name": "ipython",
    "version": 3
   },
   "file_extension": ".py",
   "mimetype": "text/x-python",
   "name": "python",
   "nbconvert_exporter": "python",
   "pygments_lexer": "ipython3",
   "version": "3.8.3"
  },
  "vscode": {
   "interpreter": {
    "hash": "aee8b7b246df8f9039afb4144a1f6fd8d2ca17a180786b69acc140d282b71a49"
   }
  }
 },
 "nbformat": 4,
 "nbformat_minor": 4
}
