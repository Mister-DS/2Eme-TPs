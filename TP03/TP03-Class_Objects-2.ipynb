{
 "cells": [
  {
   "cell_type": "markdown",
   "metadata": {},
   "source": [
    "# Classes et Objets"
   ]
  },
  {
   "cell_type": "markdown",
   "metadata": {},
   "source": [
    "\n",
    "## Une première classe\n",
    "\n",
    "### 1. Création de la classe\n",
    "\n",
    "Pour chaque classe que vous créez, prenez l'habitude de la documenter avec un docstring. \n",
    "- 1.1. Déclarez une classe **'FirstPerson' vide** et documentez-la. \n",
    "- 1.2. Instanciez la classe dans la variable **pers1**\n",
    "- 1.3. Affichez **pers1** en console.\n",
    "- 1.4. Observez le résultat."
   ]
  },
  {
   "cell_type": "code",
   "execution_count": 1,
   "metadata": {
    "scrolled": false
   },
   "outputs": [
    {
     "name": "stdout",
     "output_type": "stream",
     "text": [
      "<class '__main__.FirstPerson'>\n"
     ]
    }
   ],
   "source": [
    "class FirstPerson:\n",
    "    \"\"\"\n",
    "    Cette fonction servira a illustrer l'exercice \n",
    "\n",
    "    \"\"\"\n",
    "pers1 = FirstPerson\n",
    "\n",
    "print(pers1)"
   ]
  },
  {
   "cell_type": "markdown",
   "metadata": {},
   "source": [
    "### 2. Notion de constructeur et d'attributs (privés)\n",
    "\n",
    "- 2.1. Déclarez une classe **Person** et documentez-la. \n",
    "- 2.2. Ajoutez lui un constructeur avec 3 paramètres : **gender, height et weight**. Proposez des valeurs par défaut à ces paramètres.  \n",
    "- 2.3. Affectez les paramètre du **constructeur** à des variables d'instance (attributs).\n",
    "- 2.4. Instanciez la classe dans la variable **pers2**.  Testez le constructure avec 0, 1, 2 ou 3 paramètres. \n",
    "- 2.5. Testez votre objet en affichant les attributs un par un en console.\n",
    "\n",
    "    ### Attribut privé et getter\n",
    "\n",
    "- 2.6. Modifiez le nom de l'attribut **height** afin de le rendre **privé**. Il est nécessaire de suivre une certaine convention de nommage.  Expliquez également la différence entre l'utilisation d'un ou de deux underscores dans ce cadre.  Testez l'accès à votre variable privée.  \n",
    "- 2.7. Découvrez et utilisez **@property** afin d'accéder à votre attribut privé via une méthode dédiée (getter).\n",
    "- 2.8. Affichez **height** en console.\n",
    "\n",
    "    ### Setter\n",
    "    \n",
    "- 2.9. Essayez de modifier la valeur de l'attribut **height**.  Que se passe-t'il? \n",
    "- 2.10 Définissez dans votre classe une nouvelle méthode **height(self, new_height)** permettant de modifier la valeur de l'attribut privé.  Réessayez de modifier la valeur de l'attribut **height**.  Est-ce que ça marche? \n",
    "- 2.11. Ajoutez le décorateur @height.setter à la nouvelle fonction height(). Réessayez de modifier l'attribut **height**.\n",
    "\n",
    "    ### Synthèse\n",
    "    \n",
    "- 2.12.  Réexpliquez avec vos mots ce qu'il faut faire pour garantir l'encapsulation d'une variable, et ce que chaque étape apporte.  "
   ]
  },
  {
   "cell_type": "code",
   "execution_count": 12,
   "metadata": {},
   "outputs": [
    {
     "name": "stdout",
     "output_type": "stream",
     "text": [
      "185\n"
     ]
    }
   ],
   "source": [
    "class Person:\n",
    "    \"\"\"\n",
    "    Cette class permettra d'afficher le genre de personne, sa taille et son poids \n",
    "    \"\"\"\n",
    "    def __init__(self, gender, height, weight):\n",
    "        self.gender = gender\n",
    "        self.__height = height\n",
    "        self.weight = weight\n",
    "\n",
    "# Attribut privé ainsi que le getter (__height)\n",
    "    @property\n",
    "    def height(self):\n",
    "        return self.__height\n",
    "\n",
    "pers2 = Person(\"M\", 185, 80)\n",
    "\n",
    "print(pers2.height) #ne pas mettre print(pers2.__height) ==> erreur"
   ]
  },
  {
   "cell_type": "markdown",
   "metadata": {},
   "source": [
    "### 3. Méthodes \n",
    "\n",
    "Pour chaque méthode que vous définissez, vous devez la documenter avec un docstring adéquat.  \n",
    "\n",
    "- 3.1. Reprenez la classe de l'exercice précédent.\n",
    "- 3.2. Ajoutez à votre classe la méthode **description()** qui retourne la phrase  :\n",
    "        \"I'am a <gender>, I measure <height> centimeters and I weight <weight> kilograms.\"\n",
    "    \n",
    "    Veillez à utiliser le formattage de string ou les f-strings sinon vous pourriez rencontrer des problèmes avec une concaténation.\n",
    "- 3.3. Instanciez la classe dans la variable **pers3**\n",
    "- 3.4. Affichez en console l'appel de la méthode **description**\n",
    "\n",
    "#### Suite\n",
    "\n",
    "- 3.5. Réimplémentez la méthode built-in **\\_\\_str_\\_** pour qu'elle ait le même comportement que **description**.\n",
    "- 3.6. Comme l'exercice 1.3., affichez votre object **pers3** en console. \n",
    "- 3.7. Qu'observez-vous comme différence avec le 1.3. après avoir déclaré la méthode **\\_\\_str_\\_** ?  \n"
   ]
  },
  {
   "cell_type": "code",
   "execution_count": 16,
   "metadata": {},
   "outputs": [
    {
     "name": "stdout",
     "output_type": "stream",
     "text": [
      "I am Simon, I measure 192 centimerters and i weight 77.4 kilograms\n"
     ]
    }
   ],
   "source": [
    "class Person:\n",
    "    def __init__(self, gender, weight, height):\n",
    "        self.gender = gender\n",
    "        self.weight = weight\n",
    "        self.height = height\n",
    "    def description(self):\n",
    "        print(f\"I am {self.gender}, I measure {self.height} centimerters and i weight {self.weight} kilograms\")\n",
    "pers3 = Person(\"Simon\", 77.4, 192)\n",
    "\n",
    "pers3.description()"
   ]
  },
  {
   "cell_type": "markdown",
   "metadata": {},
   "source": [
    "### 4. (Optionnel) Notions d'héritage\n",
    "\n",
    "- 4.1. Définissez une classe **SuperHero** qui hérite de la classe **Person**.\n",
    "- 4.2. Définissez l'attribut **super_power**, qui est initialisé à la construction de l'objet SuperHero. \n",
    "- 4.3. Réécrivez la méthode \\_\\_str\\_\\_() pour qu'elle ajoute le super pouvoir de la personne à la description de l'objet.  Exploitez la méthode de la classe Personne pour ne pas devoir dupliquer de code. \n",
    "\n",
    "Mot clé : **super()**."
   ]
  },
  {
   "cell_type": "code",
   "execution_count": 18,
   "metadata": {},
   "outputs": [
    {
     "name": "stdout",
     "output_type": "stream",
     "text": [
      "I am Simon, I measure 192 centimeters and I weigh 77.4 kilograms\n",
      "Gender: Clark, Height: 185 cm, Weight: 90 kg, Super Power: Flight\n"
     ]
    }
   ],
   "source": [
    "class Person:\n",
    "    def __init__(self, gender, weight, height):\n",
    "        self.gender = gender\n",
    "        self.weight = weight\n",
    "        self.height = height\n",
    "\n",
    "    def description(self):\n",
    "        print(f\"I am {self.gender}, I measure {self.height} centimeters and I weigh {self.weight} kilograms\")\n",
    "\n",
    "    def __str__(self):\n",
    "        return f\"Gender: {self.gender}, Height: {self.height} cm, Weight: {self.weight} kg\"\n",
    "\n",
    "# Classe SuperHero qui hérite de Person\n",
    "class SuperHero(Person):\n",
    "    def __init__(self, gender, weight, height, super_power):\n",
    "        super().__init__(gender, weight, height)  # Appel du constructeur de la classe parente\n",
    "        self.super_power = super_power  # Initialisation de l'attribut super_power\n",
    "\n",
    "    def __str__(self):\n",
    "        # Appel de la méthode __str__ de la classe parente et ajout du super pouvoir\n",
    "        return f\"{super().__str__()}, Super Power: {self.super_power}\"\n",
    "\n",
    "# Instanciation de l'objet pers3 de la classe Person\n",
    "pers3 = Person(\"Simon\", 77.4, 192)\n",
    "pers3.description()\n",
    "\n",
    "# Instanciation de l'objet super_hero de la classe SuperHero\n",
    "super_hero = SuperHero(\"Clark\", 90, 185, \"Flight\")\n",
    "\n",
    "# Affichage de la description du super héros\n",
    "print(super_hero)\n"
   ]
  },
  {
   "cell_type": "markdown",
   "metadata": {},
   "source": [
    "## Exercices de drill\n",
    "\n",
    "1. Soit un enseignant qui souhaite développer une calculatrice simplifiée adaptée au niveau de maitrise de ses élèves de niveau primaire. Il souhaite que les élèves puissent se concentrer sur les notions travaillées en classe sans être distraits par des fonctions superflues. De plus, les élèves sont invités à effectuer des calculs à la chaîne, en ajoutant, soustrayant ou élevant au carré depuis le résultat de l’opération précédente.\n",
    "\n",
    "    Sur base de ce Cahier des Charges, nous allons créer une classe Calculatrice, qui simule une telle calculatrice. Cette classe contient une seule variable d’instance : La valeur actuellement affichée sur l’écran de la calculatrice. Toutes les opérations de cette calculatrice seront appliquées à cette valeur. Les opérations sont les suivantes : \n",
    "    - ajoute(self, valeur) : ajoute valeur à la valeur affichée. \n",
    "    - soustrait(self, valeur) : soustrait valeur à la valeur affichée\n",
    "    - carre(self) : élève la valeur affichée à la puissance 2. \n",
    "    - \\_\\_str\\_\\_(self) : permet d'imprimer la valeur affichée par la calculatrice.  \n",
    "\n",
    "Testez votre classe en créant une calculatrice, et en effectuant quelques opérations dessus.  Imprimez à chaque fois la valeur affichée. "
   ]
  },
  {
   "cell_type": "code",
   "execution_count": 21,
   "metadata": {},
   "outputs": [
    {
     "name": "stdout",
     "output_type": "stream",
     "text": [
      "Le total est de 17\n"
     ]
    }
   ],
   "source": [
    "class Calculatrice:\n",
    "    def __init__(self):\n",
    "        self.total = 0\n",
    "    \n",
    "    # Valeur d'ajout \n",
    "    def add(self, valeur):\n",
    "        self.total += valeur  # Additionne la valeur \n",
    "\n",
    "    # Soustraction \n",
    "    def sub(self, valeur):\n",
    "        self.total -= valeur  # Soustrait la valeur\n",
    "\n",
    "    # Carré \n",
    "    def carre(self):\n",
    "        self.total = self.total ** 2  # Calcule le carré de la valeur\n",
    "\n",
    "    # Affichage\n",
    "    def __str__(self):\n",
    "        return f\"Le total est de {self.total}\"\n",
    "\n",
    "# Instanciation de l'objet Calculatrice\n",
    "calculatrice = Calculatrice()\n",
    "calculatrice.add(5)\n",
    "calculatrice.carre()  # Calcule le carré du total (5^2 = 25)\n",
    "calculatrice.sub(8)  # Soustrait 8 au total (25 - 8 = 17)\n",
    "\n",
    "# Affichage du résultat\n",
    "print(calculatrice)  # Affiche : Le total est de 17\n"
   ]
  },
  {
   "cell_type": "markdown",
   "metadata": {},
   "source": [
    "2. Une Haute Ecole vous contacte pour informatiser la gestion de ses dossiers étudiants. Ces dossiers contiennent le nom, le prénom, et un numéro de matricule (entier positif) propre à chaque étudiant.  \n",
    "    Créez une classe Etudiant correspondant à cette description, et testez-la.  Elle doit fournir : \n",
    "    - Un moyen d'afficher le nom complet de l'étudiant via un attribut nom_complet (attention : il doit être calculé sur base des attributs noms et prénoms.  Choisissez le mécanisme adéquat). \n",
    "    - La possibilité d'obtenir le nom, le prénom et le matricule de l'étudiant lorsqu'on imprime l'objet correspondant.  \n",
    "\n",
    "\n"
   ]
  },
  {
   "cell_type": "code",
   "execution_count": 6,
   "metadata": {},
   "outputs": [
    {
     "name": "stdout",
     "output_type": "stream",
     "text": [
      "Mon nom est : Dierickx  Simon - HE202205\n"
     ]
    }
   ],
   "source": [
    "class Etudiants:\n",
    "    def __init__(self, nom, prenom, matricule):\n",
    "        self.nom = nom\n",
    "        self.prenom = prenom\n",
    "        self.matricule = matricule\n",
    "    def __str__(self):\n",
    "        return f\"Mon nom est : {self.nom}  {self.prenom} - {self.matricule}\"\n",
    "    \n",
    "etu = Etudiants(\"Dierickx\", \"Simon\", \"HE202205\") \n",
    "\n",
    "print(etu)\n",
    "\n",
    "        "
   ]
  },
  {
   "cell_type": "markdown",
   "metadata": {},
   "source": [
    "3. La Haute Ecole souhaiterait enrichir le dossier de ces étudiants en y ajoutant sa date de naissance, nécessaire pour calculer son âge.  Enrichissez la classe Etudiant pour fournir une méthode age(). Vous pouvez soit créer et exploiter une classe Date, soit utiliser le module Python datetime. \n",
    "\n"
   ]
  },
  {
   "cell_type": "code",
   "execution_count": 8,
   "metadata": {},
   "outputs": [
    {
     "name": "stdout",
     "output_type": "stream",
     "text": [
      "Je suis Simon Dierickx, je suis né le 28/10/2004, et mon matricule est HE202205\n"
     ]
    }
   ],
   "source": [
    "class Etudiant:\n",
    "    def __init__(self, name, fname, matricule, age):\n",
    "        self.name = name\n",
    "        self.fname = fname\n",
    "        self.matricule = matricule\n",
    "        self.age = age\n",
    "\n",
    "    def __str__(self):\n",
    "        return f\"Je suis {self.fname} {self.name}, je suis né le {self.age}, et mon matricule est {self.matricule}\"\n",
    "    \n",
    "etu = Etudiant(\"Dierickx\", \"Simon\", 'HE202205', \"28/10/2004\")\n",
    "\n",
    "print(etu)"
   ]
  },
  {
   "cell_type": "markdown",
   "metadata": {},
   "source": [
    "4. Votre grand-père souhaite faire l’inventaire de sa bibliothèque, et consulter facilement cet inventaire de manière informatisée. Il n’a besoin que du titre, du nom de l’auteur et de son numéro ISBN afin de pouvoir y accéder rapidement via Amazon.  Créez la classe Livre.  Créez une dizaine d'objets Livre, et stockez-les dans une liste.  Triez cette liste par nom d'auteur, puis par ISBN.  "
   ]
  },
  {
   "cell_type": "code",
   "execution_count": 1,
   "metadata": {},
   "outputs": [
    {
     "name": "stdout",
     "output_type": "stream",
     "text": [
      "Inventaire de la bibliothèque :\n",
      "'L'Étranger' par Albert Camus, ISBN: 978-2-07-036822-2\n",
      "'Le Meilleur des Mondes' par Aldous Huxley, ISBN: 978-0-06-085052-4\n",
      "'Le Petit Prince' par Antoine de Saint-Exupéry, ISBN: 978-3-16-148410-0\n",
      "'1984' par George Orwell, ISBN: 978-0-452-28423-4\n",
      "'To Kill a Mockingbird' par Harper Lee, ISBN: 978-0-06-112008-4\n",
      "'Moby Dick' par Herman Melville, ISBN: 978-0-14-243724-7\n",
      "'Harry Potter à l'École des Sorciers' par J.K. Rowling, ISBN: 978-2-01-202202-0\n",
      "'Le Hobbit' par J.R.R. Tolkien, ISBN: 978-0-618-00221-3\n",
      "'Pride and Prejudice' par Jane Austen, ISBN: 978-0-19-953556-9\n",
      "'Les Misérables' par Victor Hugo, ISBN: 978-2-07-041249-0\n"
     ]
    }
   ],
   "source": [
    "class Livre:\n",
    "    def __init__(self, titre, auteur, isbn):\n",
    "        self.titre = titre\n",
    "        self.auteur = auteur\n",
    "        self.isbn = isbn\n",
    "\n",
    "    def __str__(self):\n",
    "        return f\"'{self.titre}' par {self.auteur}, ISBN: {self.isbn}\"\n",
    "\n",
    "\n",
    "# Création d'une liste d'objets Livre\n",
    "bibliotheque = [\n",
    "    Livre(\"Le Petit Prince\", \"Antoine de Saint-Exupéry\", \"978-3-16-148410-0\"),\n",
    "    Livre(\"1984\", \"George Orwell\", \"978-0-452-28423-4\"),\n",
    "    Livre(\"Moby Dick\", \"Herman Melville\", \"978-0-14-243724-7\"),\n",
    "    Livre(\"Pride and Prejudice\", \"Jane Austen\", \"978-0-19-953556-9\"),\n",
    "    Livre(\"Le Meilleur des Mondes\", \"Aldous Huxley\", \"978-0-06-085052-4\"),\n",
    "    Livre(\"Les Misérables\", \"Victor Hugo\", \"978-2-07-041249-0\"),\n",
    "    Livre(\"Le Hobbit\", \"J.R.R. Tolkien\", \"978-0-618-00221-3\"),\n",
    "    Livre(\"Harry Potter à l'École des Sorciers\", \"J.K. Rowling\", \"978-2-01-202202-0\"),\n",
    "    Livre(\"To Kill a Mockingbird\", \"Harper Lee\", \"978-0-06-112008-4\"),\n",
    "    Livre(\"L'Étranger\", \"Albert Camus\", \"978-2-07-036822-2\")\n",
    "]\n",
    "\n",
    "# Tri de la bibliothèque par nom d'auteur, puis par ISBN\n",
    "bibliotheque.sort(key=lambda livre: (livre.auteur, livre.isbn))\n",
    "\n",
    "# Affichage de l'inventaire trié\n",
    "print(\"Inventaire de la bibliothèque :\")\n",
    "for livre in bibliotheque:\n",
    "    print(livre)\n"
   ]
  }
 ],
 "metadata": {
  "kernelspec": {
   "display_name": "Python 3 (ipykernel)",
   "language": "python",
   "name": "python3"
  },
  "language_info": {
   "codemirror_mode": {
    "name": "ipython",
    "version": 3
   },
   "file_extension": ".py",
   "mimetype": "text/x-python",
   "name": "python",
   "nbconvert_exporter": "python",
   "pygments_lexer": "ipython3",
   "version": "3.12.3"
  }
 },
 "nbformat": 4,
 "nbformat_minor": 4
}
