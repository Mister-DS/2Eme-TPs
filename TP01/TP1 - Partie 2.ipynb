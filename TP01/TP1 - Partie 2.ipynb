{
 "cells": [
  {
   "cell_type": "markdown",
   "metadata": {},
   "source": [
    "# TP 1 - Partie 2 : Les strings et les fonctions\n",
    "\n",
    "## Introduction\n",
    "\n",
    "\n",
    "En première partie du TP, vous vous êtes familiarisés avec les types de données de base, les variables et les contrôle de flux du langage Python.  Vous avez utilisé pour cela l'interpréteur Python en mode interactif, puis en mode script.  \n",
    "\n",
    "A présent, nous vous proposons d'utiliser un nouvel outil : Les Notebooks Jupyter.  Cet environnement Python est basé sur des pages Web pouvant contenir soit du texte au format Markdown, soit du code.  \n",
    "\n",
    "Le texte que vous lisez est contenu dans la première cellule de ce Notebook, une cellule de type Markdown.  \n",
    "\n",
    "Vous pouvez l'éditer afin d'y ajouter vos notes et commentaires.  De la sorte, vous pourrez vous construire vos propres documents de travail et d'étude..\n",
    "\n",
    "Vous trouverez plus bas des cellules de type \"code\".  Vous pouvez y taper du code python, puis l'exécuter avec la commande \"Run\" dans la barre d'outils ci-dessus.  \n",
    "\n",
    "## Exercices sur les chaînes de caractères (strings)\n",
    "\n",
    "Les chaines de caractères sont le premier type de donnnées de type \"container\" que nous verrons.  Les autres types seront abordés plus tard.  Vous trouverez une présentation des chaines de caractères Python ici : https://docs.python.org/fr/3/tutorial/introduction.html#strings\n",
    "\n",
    "Quelques éléments à retenir  : \n",
    "\n",
    "- Il est possible de créer une chaine de caractères en utilisant les guillemets simples ou doubles.  L'important est de rester cohérent : Si la chaine commence par un guillemet double, elle doit nécessairement se terminer par un guillement double.  C'est la même chose pour les guillemets simples.  Une chaine délimitée par des guillemets doubles peut contenir des guillemets simple, et inversément.  \n",
    "- On peut créer une chaine de caractères sur plusieurs lignes en utilisant trois paires de guillemets doubles : \n",
    "\"\"\" Ceci est une chaine \n",
    "    de caractères \n",
    "    multi-lignes \"\"\"\n",
    "\n",
    "- Une chaine de caractères Python est **immuable** : Une fois créée, elle ne peut pas être modifiée.  Par exemple, il n'est pas possible de remplacer le deuxième caractère de la chaine par un autre, ni de rallonger ou raccourcir une chaîne.  Pour effectuer ces opérations, il faut obligatoirement utiliser des copies de la chaine originale.  \n",
    "- Une chaine de caractères Python est indexable : Il est possible de référencer facilement les caractères individuels, ou d'extraire des sous-chaînes au début, à la fin ou au milieu de la chaine de départ.  Des indices négatifs peuvent même être utilisés pour référencer les caractères en fin de chaine!\n",
    "- Le mot-clé *in* est très utile pour vérifier si un caractère est présent dans une chaîne (ex : 'a' in 'tata' renvoie True)\n",
    "- Il existe beaucoup de fonctions (on parlera de méthodes) pour manipuler les chaines de caractères dans la librairie standard Python : https://docs.python.org/fr/3/library/stdtypes.html#string-methods\n",
    "\n",
    "\n"
   ]
  },
  {
   "cell_type": "markdown",
   "metadata": {},
   "source": [
    "1. Imprimer **OK** si **'toto'** se trouve dans la **chaine de caractères** introduite par **l'utilisateur** (input)"
   ]
  },
  {
   "cell_type": "code",
   "execution_count": 1,
   "metadata": {},
   "outputs": [
    {
     "name": "stdout",
     "output_type": "stream",
     "text": [
      "Ok\n"
     ]
    }
   ],
   "source": [
    "a = input(\"Veuillez entrer une chaine de caractère\")\n",
    "if 'toto' in a:\n",
    "    print(\"OK\")\n",
    "else :\n",
    "    print(\"Pas de toto dans la phrase\")"
   ]
  },
  {
   "cell_type": "markdown",
   "metadata": {},
   "source": [
    "2. **Compter** le nombre de **'a'** dans la chaine de caractères entrée par l'utilisateur.  \n"
   ]
  },
  {
   "cell_type": "code",
   "execution_count": 10,
   "metadata": {},
   "outputs": [
    {
     "name": "stdout",
     "output_type": "stream",
     "text": [
      "5\n"
     ]
    }
   ],
   "source": [
    "chaine = str(input('Entrer une chaine de caractère'))\n",
    "nombre_a = chaine.count(a)\n",
    "print(nombre_a)\n"
   ]
  },
  {
   "cell_type": "markdown",
   "metadata": {},
   "source": [
    "3.  **Convertir** en **majuscule** la chaine de caractères entrée par l'utilisateur"
   ]
  },
  {
   "cell_type": "code",
   "execution_count": 13,
   "metadata": {},
   "outputs": [
    {
     "name": "stdout",
     "output_type": "stream",
     "text": [
      "TEST\n"
     ]
    }
   ],
   "source": [
    "a = str(input('Entrer une chaine de caractère : '))\n",
    "a = a.upper()\n",
    "print(a)"
   ]
  },
  {
   "cell_type": "markdown",
   "metadata": {},
   "source": [
    "4.  **Vérifier** si la **première** chaine de caractères **entrée** par l'utilisateur est **l'inverse de la seconde**.  Par exemple, ABC est l'inverse de CBA.  "
   ]
  },
  {
   "cell_type": "code",
   "execution_count": 14,
   "metadata": {},
   "outputs": [
    {
     "name": "stdout",
     "output_type": "stream",
     "text": [
      "La première chaîne n'est pas l'inverse de la seconde.\n"
     ]
    }
   ],
   "source": [
    "\n",
    "chaine1 = input(\"Entrez la première chaîne de caractères : \")\n",
    "\n",
    "chaine2 = input(\"Entrez la seconde chaîne de caractères : \")\n",
    "\n",
    "chaine2_inverse = chaine2[::-1]\n",
    "\n",
    "if chaine1 == chaine2_inverse:\n",
    "    print(\"La première chaîne est l'inverse de la seconde.\")\n",
    "else:\n",
    "    print(\"La première chaîne n'est pas l'inverse de la seconde.\")\n",
    "\n",
    "\n",
    "#D'autre manière d'inverser une chaine\n",
    "    \n",
    "#chaine = \"bjr\"\n",
    "# chaine_inverse = \"\".join(reversed(chaine))\n",
    "# print(chaine_inverse) ==> rjb\n"
   ]
  },
  {
   "cell_type": "markdown",
   "metadata": {},
   "source": [
    "5. **Composez** une **chaîne de caractères** sur base de l'ensemble des éléments suivants : \n",
    "\n",
    "\n",
    "- \"Je me nomme\"\n",
    "- NOM PRENOM\n",
    "- \"Et je participe\"\n",
    "- \"Au cours\"\n",
    "- \"De Développement Informatique\"\n",
    "- 2\n",
    "\n",
    "Vous devez utiliser le formatage nommé **f-string** pour cet exercice."
   ]
  },
  {
   "cell_type": "code",
   "execution_count": 3,
   "metadata": {},
   "outputs": [],
   "source": [
    "# Veuillez définir l'ensemble des chaînes de caractères dans des variables avant de formatter votre chaîne, \n",
    "# ce sera plus facile ;)\n",
    "\n"
   ]
  },
  {
   "cell_type": "markdown",
   "metadata": {},
   "source": [
    "## Exercices sur les fonctions"
   ]
  },
  {
   "cell_type": "markdown",
   "metadata": {},
   "source": [
    "1.  **Réécrivez** vos **solutions** aux exercices de la section précédente pour en faire des **fonctions**.  "
   ]
  },
  {
   "cell_type": "code",
   "execution_count": null,
   "metadata": {},
   "outputs": [],
   "source": []
  },
  {
   "cell_type": "markdown",
   "metadata": {},
   "source": [
    "2. **Ecrivez** une **fonction** qui **renvoie le carré d'un nombre**"
   ]
  },
  {
   "cell_type": "code",
   "execution_count": 2,
   "metadata": {},
   "outputs": [],
   "source": [
    "def carreNombre(n):\n",
    "    return n**2 "
   ]
  },
  {
   "cell_type": "markdown",
   "metadata": {},
   "source": [
    "3. **Ecrivez** une **fonction maximum(a,b,c)** qui **renvoie le maximum parmi les trois nombres a, b et c**.  "
   ]
  },
  {
   "cell_type": "code",
   "execution_count": 4,
   "metadata": {},
   "outputs": [],
   "source": [
    "def fctMaximum(a,b,c):\n",
    "    if a >= b and a >= c:\n",
    "        return a\n",
    "    elif b>= a and b >= c: \n",
    "        return b\n",
    "    else:\n",
    "        return c"
   ]
  },
  {
   "cell_type": "markdown",
   "metadata": {},
   "source": [
    "4.  **Ecrivez** la **fonction factorielle(n)** en Python"
   ]
  },
  {
   "cell_type": "code",
   "execution_count": 5,
   "metadata": {},
   "outputs": [],
   "source": [
    "def factorielle(n):\n",
    "    if n == 0:\n",
    "        return 1\n",
    "    else:\n",
    "        return n * factorielle(n - 1)\n"
   ]
  },
  {
   "cell_type": "markdown",
   "metadata": {},
   "source": [
    "5. **Ecrivez** une **fonction** qui **convertit une note chiffrée en appréciation (lettre de A à F)**.  Cette fonction prend **deux paramètres** : **la note de l'étudiant, et le total de l'exercice** (par exemple, 18 sur 20, ou 60 %). Le calcul de la note s'effectue selon le tableau suivant : \n",
    "\n",
    "\n",
    "| Note chiffrée | Appréciation    |   \n",
    "| ------------- |  -------------  | \n",
    "| [80:100]      |        A        | \n",
    "| [70:80[       |        B        |\n",
    "| [60:70[       |        C        |\n",
    "| [50:60[       |        D        |\n",
    "| [30:50[       |        E        |\n",
    "| [0:30[        |        F        |\n"
   ]
  },
  {
   "cell_type": "code",
   "execution_count": 7,
   "metadata": {},
   "outputs": [
    {
     "name": "stdout",
     "output_type": "stream",
     "text": [
      "L'appréciation est : B\n"
     ]
    }
   ],
   "source": [
    "def conversion_note(note, total):\n",
    "    # Calcul du pourcentage de la note\n",
    "    pourcentage = (note / total) * 100\n",
    "\n",
    "    # Attribution de l'appréciation\n",
    "    if pourcentage >= 80 and pourcentage <= 100:\n",
    "        return 'A'\n",
    "    elif pourcentage >= 70 and pourcentage < 80:\n",
    "        return 'B'\n",
    "    elif pourcentage >= 60 and pourcentage < 70:\n",
    "        return 'C'\n",
    "    elif pourcentage >= 50 and pourcentage < 60:\n",
    "        return 'D'\n",
    "    elif pourcentage >= 30 and pourcentage < 50:\n",
    "        return 'E'\n",
    "    elif pourcentage >= 0 and pourcentage < 30:\n",
    "        return 'F'\n",
    "    else:\n",
    "        return \"Note invalide\"\n",
    "\n",
    "# Exemple d'utilisation\n",
    "note = float(input(\"Entrez la note de l'étudiant : \"))\n",
    "total = float(input(\"Entrez le total de l'exercice : \"))\n"
   ]
  }
 ],
 "metadata": {
  "kernelspec": {
   "display_name": "Python 3",
   "language": "python",
   "name": "python3"
  },
  "language_info": {
   "codemirror_mode": {
    "name": "ipython",
    "version": 3
   },
   "file_extension": ".py",
   "mimetype": "text/x-python",
   "name": "python",
   "nbconvert_exporter": "python",
   "pygments_lexer": "ipython3",
   "version": "3.12.0"
  }
 },
 "nbformat": 4,
 "nbformat_minor": 4
}
